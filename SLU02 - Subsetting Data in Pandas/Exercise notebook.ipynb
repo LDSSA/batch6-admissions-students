{
 "cells": [
  {
   "cell_type": "markdown",
   "metadata": {
    "deletable": false,
    "editable": false,
    "nbgrader": {
     "grade": false,
     "grade_id": "cell-63aee61ad7c5ad78",
     "locked": true,
     "schema_version": 3,
     "solution": false
    }
   },
   "source": [
    "# SLU2 - Subsetting data: Exercise notebook\n",
    "\n",
    "In this notebook you'll practice the concepts you've seen on the Learning and example notebooks:\n",
    "\n",
    "    - Setting pandas Dataframe index\n",
    "    - Selecting columns with brackets notation\n",
    "    - Selecting columns with dot notation\n",
    "    - Selecting rows with loc \n",
    "    - Selecting rows with iloc\n",
    "    - Multi-axis indexing (as an alternative to Chain indexing) \n",
    "    - Masks\n",
    "    - Where\n",
    "    - Subsetting on conditions\n",
    "    - Removing and Adding columns\n",
    "\n",
    "**Note**: For these exercices we will be using a netflix dataset containing the description and ratings of several movies and tv shows. In each exercise, you'll be asked to implement a function, which you can check against the assertions provided.\n",
    "\n",
    "Let's dive right in."
   ]
  },
  {
   "cell_type": "code",
   "execution_count": null,
   "metadata": {
    "deletable": false,
    "editable": false,
    "nbgrader": {
     "grade": false,
     "grade_id": "cell-2ffbef28a1ff41fd",
     "locked": true,
     "schema_version": 3,
     "solution": false,
     "task": false
    }
   },
   "outputs": [],
   "source": [
    "import pandas as pd\n",
    "import numpy as np\n",
    "import math\n",
    "pd.options.display.max_rows = 10"
   ]
  },
  {
   "cell_type": "markdown",
   "metadata": {
    "deletable": false,
    "editable": false,
    "nbgrader": {
     "grade": false,
     "grade_id": "cell-2abe3e9af0e58174",
     "locked": true,
     "schema_version": 3,
     "solution": false,
     "task": false
    }
   },
   "source": [
    "## Welcome to Netflix\n",
    "\n",
    "You just succeded in getting a job for Netflix. Wow, congratz! Granted, it's mostly a tech costumer support job, but you feel it will allow you to go up inside the company. \n",
    "\n",
    "It's your first day on the job and you got inducted, they gave you a few tips, access to the data you need to find people's problems and showed you to your space. You're now settling in and getting ready for all of those password reset requests that are bound to come in:\n",
    "\n",
    "\n",
    "![tech-cs](./images/tech_cs.jpg)\n",
    "\n",
    "\n",
    "You have a couple of minutes before they activate your line, so you start to explore a little bit. While looking into the data you have access to, you stumble upon a collection of the available movies and tv shows on the platform and you decide to take a look:"
   ]
  },
  {
   "cell_type": "code",
   "execution_count": null,
   "metadata": {},
   "outputs": [],
   "source": [
    "# Read netflix shows dataset and set show id column as index\n",
    "netflix_shows = pd.read_csv('data/netflix_titles.csv',index_col='show_id').sort_index()\n",
    "\n",
    "# Show first 5 lines\n",
    "netflix_shows.head(5)"
   ]
  },
  {
   "cell_type": "markdown",
   "metadata": {
    "deletable": false,
    "editable": false,
    "nbgrader": {
     "grade": false,
     "grade_id": "cell-c4fc286960a67c7f",
     "locked": true,
     "schema_version": 3,
     "solution": false
    }
   },
   "source": [
    "Looks like an interesting dataset, so you remember to put in practice what you're learning in that data science academy you took (yikes, maybe you should have payed more attention to it 😅).\n",
    "\n",
    "## Exercise 1 - Exploring the data\n",
    "\n",
    "### Exercise 1.1 - Selecting rows\n",
    "\n",
    "You want to retrieve the the **39th**, **42nd**, the **512th** and the **2019th** rows. Implement the function `select_rows` so that given a set of ids, it retrieves a dataframe with the corresponding rows:"
   ]
  },
  {
   "cell_type": "code",
   "execution_count": null,
   "metadata": {
    "deletable": false,
    "nbgrader": {
     "grade": false,
     "grade_id": "select_rows",
     "locked": false,
     "schema_version": 3,
     "solution": true
    }
   },
   "outputs": [],
   "source": [
    "def select_rows_by_id(df, ids):\n",
    "    \"\"\" \n",
    "    Select the desired rows\n",
    "    \n",
    "    Args:\n",
    "        df (pd.DataFrame): the input DataFrame\n",
    "        rows: list with the desired rows indices\n",
    "\n",
    "    Returns:p\n",
    "        (pd.DataFrame): subset Dataframe\n",
    "\n",
    "    \"\"\"\n",
    "    \n",
    "    # YOUR CODE HERE\n",
    "    raise NotImplementedError()"
   ]
  },
  {
   "cell_type": "code",
   "execution_count": null,
   "metadata": {
    "deletable": false,
    "editable": false,
    "nbgrader": {
     "grade": true,
     "grade_id": "select_rows_tests",
     "locked": true,
     "points": 2,
     "schema_version": 3,
     "solution": false
    }
   },
   "outputs": [],
   "source": [
    "# This cell is what will test your code, please ignore it!\n",
    "\n",
    "netflix_shows = pd.read_csv('data/netflix_titles.csv', index_col='show_id').sort_index()\n",
    "df_rows = select_rows_by_id(netflix_shows, [42, 39, 512, 2019])\n",
    "df_rows = df_rows.sort_index()\n",
    "\n",
    "assert isinstance(df_rows, pd.DataFrame)\n",
    "assert df_rows.shape[0] == 4\n",
    "assert df_rows.shape[1] == netflix_shows.shape[1]\n",
    "assert df_rows.country.unique()[0] == 'United States'\n",
    "assert np.mean(df_rows.release_year) == 2000.25"
   ]
  },
  {
   "cell_type": "markdown",
   "metadata": {
    "deletable": false,
    "editable": false,
    "nbgrader": {
     "grade": false,
     "grade_id": "cell-1dc0734066ab2665",
     "locked": true,
     "schema_version": 3,
     "solution": false
    }
   },
   "source": [
    "### Exercise 1.2 - Selecting rows by title\n",
    "\n",
    "You now want to change the index of your data to the country and retrieve all movies for which the country of origin is either the US or UK. Implement the function `select_rows_by_country` so that given a set of countries, it retrieves a dataframe with the corresponding rows, where the index corresponds to the `country` column.\n",
    "\n",
    "**Hint**: Keep in mind that we don't want to discard the `show_id`'s, this is still useful information about the shows! Additionally, make sure the `country` column is not \"duplicated\""
   ]
  },
  {
   "cell_type": "code",
   "execution_count": null,
   "metadata": {
    "deletable": false,
    "nbgrader": {
     "grade": false,
     "grade_id": "select_rows_by_country",
     "locked": false,
     "schema_version": 3,
     "solution": true,
     "task": false
    }
   },
   "outputs": [],
   "source": [
    "def select_rows_by_country(df, countries):\n",
    "    \"\"\" \n",
    "    Select the desired rows given the country names\n",
    "    \n",
    "    Args:\n",
    "        df (pd.DataFrame): the input DataFrame, with an available column `country`\n",
    "        rows: list with the desired countries\n",
    "\n",
    "    Returns:\n",
    "        (pd.DataFrame): subset Dataframe\n",
    "\n",
    "    \"\"\"\n",
    "    \n",
    "    # YOUR CODE HERE\n",
    "    raise NotImplementedError()"
   ]
  },
  {
   "cell_type": "code",
   "execution_count": null,
   "metadata": {
    "deletable": false,
    "editable": false,
    "nbgrader": {
     "grade": true,
     "grade_id": "select_rows_by_country_tests",
     "locked": true,
     "points": 2,
     "schema_version": 3,
     "solution": false,
     "task": false
    }
   },
   "outputs": [],
   "source": [
    "# This cell is what will test your code, please ignore it!\n",
    "\n",
    "netflix_shows = pd.read_csv('data/netflix_titles.csv', index_col='show_id').sort_index()\n",
    "desired_countries = ['United States', 'United Kingdom']\n",
    "df_rows = select_rows_by_country(netflix_shows, desired_countries)\n",
    "\n",
    "assert isinstance(df_rows, pd.DataFrame)\n",
    "assert df_rows.shape[0] == 2380\n",
    "assert df_rows.shape[1] == netflix_shows.shape[1]\n",
    "assert df_rows.index.name == 'country'\n",
    "\n",
    "assert 'show_id' in list(df_rows.columns)\n",
    "assert list(df_rows.index.unique()) == desired_countries\n",
    "assert math.isclose(np.mean(df_rows.release_year), 2012.914705882353)"
   ]
  },
  {
   "cell_type": "markdown",
   "metadata": {
    "deletable": false,
    "editable": false,
    "nbgrader": {
     "grade": false,
     "grade_id": "cell-48c215d216e65fb0",
     "locked": true,
     "schema_version": 3,
     "solution": false,
     "task": false
    }
   },
   "source": [
    "### Exercise 1.3 - Selecting columns\n",
    "\n",
    "To retrieve the **title** and **description** columns, implement the function `select_columns`:"
   ]
  },
  {
   "cell_type": "code",
   "execution_count": null,
   "metadata": {
    "deletable": false,
    "nbgrader": {
     "grade": false,
     "grade_id": "cell-8e5ea2a645f600a8",
     "locked": false,
     "schema_version": 3,
     "solution": true,
     "task": false
    }
   },
   "outputs": [],
   "source": [
    "def select_columns(df, columns):\n",
    "    \"\"\" \n",
    "    Select the desired columns of a dataframe\n",
    "    \n",
    "    Args:\n",
    "        df (pd.DataFrame): the input DataFrame\n",
    "        columns: list with columns to retrieve\n",
    "\n",
    "    Returns:\n",
    "        (pd.DataFrame): subset Dataframe\n",
    "\n",
    "    \"\"\"\n",
    "    \n",
    "    # YOUR CODE HERE\n",
    "    raise NotImplementedError()"
   ]
  },
  {
   "cell_type": "code",
   "execution_count": null,
   "metadata": {
    "deletable": false,
    "editable": false,
    "nbgrader": {
     "grade": true,
     "grade_id": "cell-710bb8203e0a0d98",
     "locked": true,
     "points": 2,
     "schema_version": 3,
     "solution": false,
     "task": false
    }
   },
   "outputs": [],
   "source": [
    "# This cell is what will test your code, please ignore it!\n",
    "\n",
    "netflix_shows = pd.read_csv('data/netflix_titles.csv', index_col='show_id').sort_index()\n",
    "\n",
    "desired_columns = ['title']\n",
    "df_columns = select_columns(netflix_shows, desired_columns)\n",
    "assert isinstance(df_columns, pd.DataFrame)\n",
    "assert df_columns.shape[0] == netflix_shows.shape[0]\n",
    "assert df_columns.shape[1] == 1\n",
    "assert df_columns.columns.tolist() == desired_columns\n",
    "\n",
    "desired_columns = ['title', 'description']\n",
    "df_columns = select_columns(netflix_shows, desired_columns)\n",
    "assert isinstance(df_columns, pd.DataFrame)\n",
    "assert df_columns.shape[0] == netflix_shows.shape[0]\n",
    "assert df_columns.shape[1] == 2\n",
    "assert df_columns.columns.tolist() == desired_columns"
   ]
  },
  {
   "cell_type": "markdown",
   "metadata": {
    "deletable": false,
    "editable": false,
    "nbgrader": {
     "grade": false,
     "grade_id": "cell-69f06024bb46890f",
     "locked": true,
     "schema_version": 3,
     "solution": false,
     "task": false
    }
   },
   "source": [
    "### Exercise 1.4 - Selecting rows and columns\n",
    "\n",
    "Let's combine what you've learned above and retrieve all the show ids between **22040803** and **80175275** together with each movie's __title__, __description__ and __release_year__. Implement it under the function below:"
   ]
  },
  {
   "cell_type": "code",
   "execution_count": null,
   "metadata": {
    "deletable": false,
    "nbgrader": {
     "grade": false,
     "grade_id": "exercise_4",
     "locked": false,
     "schema_version": 3,
     "solution": true
    }
   },
   "outputs": [],
   "source": [
    "def dedicated_subset(df):\n",
    "    \"\"\" \n",
    "    Select columns title, description and release year for show ids 22040803 to 80175275\n",
    "    \n",
    "    Args:\n",
    "        df (pd.DataFrame): the input DataFrame\n",
    "\n",
    "    Returns:\n",
    "        (pd.DataFrame): subsetted df\n",
    "\n",
    "    \"\"\"\n",
    "    \n",
    "    # YOUR CODE HERE\n",
    "    raise NotImplementedError()"
   ]
  },
  {
   "cell_type": "code",
   "execution_count": null,
   "metadata": {
    "deletable": false,
    "editable": false,
    "nbgrader": {
     "grade": true,
     "grade_id": "exercise_4_correct",
     "locked": true,
     "points": 2,
     "schema_version": 3,
     "solution": false
    }
   },
   "outputs": [],
   "source": [
    "# This cell is what will test your code, please ignore it!\n",
    "\n",
    "netflix_shows = pd.read_csv('data/netflix_titles.csv', index_col='show_id').sort_index()\n",
    "df_out = dedicated_subset(netflix_shows)\n",
    "\n",
    "assert isinstance(df_out, pd.DataFrame)\n",
    "assert df_out.shape[0] == 3220\n",
    "assert df_out.shape[1] == 3\n",
    "assert df_out.columns.tolist() == ['title', 'description', 'release_year']\n",
    "assert math.isclose(np.mean(df_out.release_year), 2011.3403726708075)"
   ]
  },
  {
   "cell_type": "markdown",
   "metadata": {
    "deletable": false,
    "editable": false,
    "nbgrader": {
     "grade": false,
     "grade_id": "cell-4ad882e08bb00989",
     "locked": true,
     "schema_version": 3,
     "solution": false,
     "task": false
    }
   },
   "source": [
    "### Exercise 1.5 - Hiding data\n",
    "\n",
    "Now we're going to be hiding some of the rows from our dataset.\n",
    "\n",
    "### Exercise 1.5.1 \n",
    "\n",
    "Start by hiding all TV shows."
   ]
  },
  {
   "cell_type": "code",
   "execution_count": null,
   "metadata": {
    "deletable": false,
    "nbgrader": {
     "grade": false,
     "grade_id": "cell-dd32ace8f3921366",
     "locked": false,
     "schema_version": 3,
     "solution": true,
     "task": false
    }
   },
   "outputs": [],
   "source": [
    "def hide_tv_shows(df):\n",
    "    \"\"\" \n",
    "    Hide all TV shows in dataframe\n",
    "    \n",
    "    Args:\n",
    "        df (pd.DataFrame): the input DataFrame\n",
    "\n",
    "    Returns:\n",
    "        (pd.DataFrame): output DataFrame\n",
    "\n",
    "    \"\"\"\n",
    "    \n",
    "    # YOUR CODE HERE\n",
    "    raise NotImplementedError()"
   ]
  },
  {
   "cell_type": "code",
   "execution_count": null,
   "metadata": {
    "deletable": false,
    "editable": false,
    "nbgrader": {
     "grade": true,
     "grade_id": "cell-d87eef42c4baa2a2",
     "locked": true,
     "points": 2,
     "schema_version": 3,
     "solution": false,
     "task": false
    }
   },
   "outputs": [],
   "source": [
    "# This cell is what will test your code, please ignore it!\n",
    "\n",
    "netflix_shows = pd.read_csv('data/netflix_titles.csv', index_col='show_id').sort_index()\n",
    "df_out = hide_tv_shows(netflix_shows)\n",
    "\n",
    "assert isinstance(df_out, pd.DataFrame)\n",
    "assert df_out.shape[0] == netflix_shows.shape[0]\n",
    "assert df_out.shape[1] == netflix_shows.shape[1]\n",
    "assert sum(df_out.type=='TV Show') == 0"
   ]
  },
  {
   "cell_type": "markdown",
   "metadata": {
    "deletable": false,
    "editable": false,
    "nbgrader": {
     "grade": false,
     "grade_id": "cell-a0fcfa0afe15bdb2",
     "locked": true,
     "schema_version": 3,
     "solution": false,
     "task": false
    }
   },
   "source": [
    "### Exercise 1.5.2 \n",
    "\n",
    "Now reverse it and leave only TV shows."
   ]
  },
  {
   "cell_type": "code",
   "execution_count": null,
   "metadata": {
    "deletable": false,
    "nbgrader": {
     "grade": false,
     "grade_id": "cell-c928e9856866109b",
     "locked": false,
     "schema_version": 3,
     "solution": true,
     "task": false
    }
   },
   "outputs": [],
   "source": [
    "def show_tv_shows(df):\n",
    "    \"\"\" \n",
    "    Show only TV shows in dataframe\n",
    "    \n",
    "    Args:\n",
    "        df (pd.DataFrame): the input DataFrame\n",
    "\n",
    "    Returns:\n",
    "        (pd.DataFrame): output DataFrame\n",
    "\n",
    "    \"\"\"\n",
    "    \n",
    "    # YOUR CODE HERE\n",
    "    raise NotImplementedError()"
   ]
  },
  {
   "cell_type": "code",
   "execution_count": null,
   "metadata": {
    "deletable": false,
    "editable": false,
    "nbgrader": {
     "grade": true,
     "grade_id": "cell-e296fd51f293546c",
     "locked": true,
     "points": 2,
     "schema_version": 3,
     "solution": false,
     "task": false
    }
   },
   "outputs": [],
   "source": [
    "# This cell is what will test your code, please ignore it!\n",
    "netflix_shows = pd.read_csv('data/netflix_titles.csv', index_col='show_id').sort_index()\n",
    "df_out = show_tv_shows(netflix_shows)\n",
    "\n",
    "assert isinstance(df_out, pd.DataFrame)\n",
    "assert df_out.shape[0] == netflix_shows.shape[0]\n",
    "assert df_out.shape[1] == netflix_shows.shape[1]\n",
    "assert sum(df_out.dropna().type!='TV Show') == 0"
   ]
  },
  {
   "cell_type": "markdown",
   "metadata": {
    "deletable": false,
    "editable": false,
    "nbgrader": {
     "grade": false,
     "grade_id": "cell-b72e4197684c12f3",
     "locked": true,
     "schema_version": 3,
     "solution": false,
     "task": false
    }
   },
   "source": [
    "Oops, phone's ringing, time to go start working. Drop your playing and pick up the phone...\n",
    "\n",
    "\n",
    "## Exercise 2 - _A damsel in distress_\n",
    "\n",
    "A few calls in, you answer the phone to this old lady. Her problem doesn't seem very technical, but she sounds sweet and you're eager to help and do well on your first day, so you listen to her problem anyways. Well, at least until you get another call.\n",
    "\n",
    "![old_lady](images/old_lady_netflix.jpg)\n",
    "\n",
    "Mrs. Ferguson (let's call her that) wants help in knowing which movies she can show her grandkids. They're coming over and she wanted to do a **movie** session, but her daughter was the one setting up netflix and she has no idea how to use it, except to search for specific movies. And the suggestions that she's getting for popular movies seem everything but appropriate. \n",
    "\n",
    "You think for a bit and decided it shouldn't be too hard and you decide to help her. You ask her just a couple of questions and decide the following:\n",
    "\n",
    "* Her grandkids are aged 5 and 8\n",
    "* They don't yet read subtitles, so obviously they need to be English\n",
    "* Recent movies are preferred (after 2015)\n",
    "* Short movies are preferred (less than 1h20)\n",
    "* No documentaries - she wants her grandkids to like her!\n",
    "\n",
    "You also pull some info on the ratings of movies and find out the following:\n",
    "\n",
    "|Rating | Description |\n",
    "|-------|-------------|\n",
    "| G | General exhibition, suitable for all ages but not necessarily intended for children |\n",
    "| NC-17 | Not suitable for children under 17 |\n",
    "| NR | Not rated |\n",
    "| PG | Some material may not be suitable for children. |\n",
    "| PG-13| Not suitable for children under 13 |\n",
    "| R | Not suitable for children under 17  |\n",
    "| TV-14 | This program contains some material that many parents would find unsuitable for children under 14 years of age |\n",
    "| TV-G  | Most parents would find this program suitable for all ages. |\n",
    "| TV-MA| This program is intended to be viewed by adults and therefore may be unsuitable for children under 17 |\n",
    "| TV-PG | Parental guidance is recommendedes - these programs may be unsuitable for younger children |\n",
    "| TV-Y  | This program is aimed at a very young audience, including children from ages 2–6 |\n",
    "| TV-Y7 | This program is designed for children age 7 and above. |\n",
    "| TV-Y7-FV | Similar to TV-Y7, but may contain fantasy violence and generally be more intense |\n",
    "| UR | Unrated |\n",
    "\n",
    "\n",
    "You'll use this list to make sure the list you provide her is appropriate (assume films without rating are possibly problematic). \n",
    "\n",
    "First, you notice the duration provided is a string, and when it refers to minutes seems to allways follow the pattern `Xmin`, so you design a function to extract it as a number and apply it to your dataframe:\n",
    "\n"
   ]
  },
  {
   "cell_type": "code",
   "execution_count": null,
   "metadata": {
    "deletable": false,
    "editable": false,
    "nbgrader": {
     "grade": false,
     "grade_id": "cell-39fe77d6e707793e",
     "locked": true,
     "schema_version": 3,
     "solution": false,
     "task": false
    }
   },
   "outputs": [],
   "source": [
    "from utils import add_column_duration_int\n",
    "\n",
    "netflix_shows = pd.read_csv('data/netflix_titles.csv', index_col='show_id').sort_index()\n",
    "netflix_shows = add_column_duration_int(netflix_shows)\n",
    "netflix_shows.head()"
   ]
  },
  {
   "cell_type": "markdown",
   "metadata": {
    "deletable": false,
    "editable": false,
    "nbgrader": {
     "grade": false,
     "grade_id": "cell-9c708e90ab1cf79e",
     "locked": true,
     "schema_version": 3,
     "solution": false,
     "task": false
    }
   },
   "source": [
    "Now implement below the final code to return the suggested list of movies for Mrs. Ferguson. **Use the previous function to add a readable duration column** and return the following columns: `title`, `description`, `duration_int`, and `release_year` columns.\n",
    "\n",
    "**Hint**: Look into the function `.isin` described in the learning notebook and how it can be used to check a value against a list"
   ]
  },
  {
   "cell_type": "code",
   "execution_count": null,
   "metadata": {
    "deletable": false,
    "nbgrader": {
     "grade": false,
     "grade_id": "cell-a8cc62331e776b85",
     "locked": false,
     "schema_version": 3,
     "solution": true,
     "task": false
    }
   },
   "outputs": [],
   "source": [
    "def mrs_ferguson_list(df):\n",
    "    \"\"\" \n",
    "    Show netflix shows according to mrs ferguson parameters:\n",
    "    \n",
    "      - only movies\n",
    "      - from english-speaking countries (US and UK)\n",
    "      - appropriate for ages 5 and 8\n",
    "      - from or after 2015\n",
    "      - at most 80 min of duration\n",
    "      - no documentaries\n",
    "      \n",
    "    Return only titles, description, duration_int and release_year\n",
    "    \n",
    "    Args:\n",
    "        df (pd.DataFrame): the input DataFrame\n",
    "\n",
    "    Returns:\n",
    "        (pd.DataFrame): subsetted df\n",
    "\n",
    "    \"\"\"\n",
    "    \n",
    "    # YOUR CODE HERE\n",
    "    raise NotImplementedError()"
   ]
  },
  {
   "cell_type": "code",
   "execution_count": null,
   "metadata": {
    "deletable": false,
    "editable": false,
    "nbgrader": {
     "grade": true,
     "grade_id": "cell-12334e0343a2faed",
     "locked": true,
     "points": 4,
     "schema_version": 3,
     "solution": false,
     "task": false
    }
   },
   "outputs": [],
   "source": [
    "# This cell is what will test your code, please ignore it!\n",
    "\n",
    "netflix_shows = pd.read_csv('data/netflix_titles.csv', index_col='show_id').sort_index()\n",
    "netflix_shows = add_column_duration_int(netflix_shows)\n",
    "df_out = mrs_ferguson_list(netflix_shows)\n",
    "\n",
    "assert df_out.shape[0] == 19\n",
    "assert df_out.shape[1] == 4\n",
    "assert df_out.columns.tolist() == ['title', 'description', 'duration_int', 'release_year']\n",
    "assert math.isclose(np.mean(df_out.duration_int), 53.63157894736842)"
   ]
  },
  {
   "cell_type": "markdown",
   "metadata": {
    "deletable": false,
    "editable": false,
    "nbgrader": {
     "grade": false,
     "grade_id": "cell-a44d9cd716b2982c",
     "locked": true,
     "schema_version": 3,
     "solution": false,
     "task": false
    }
   },
   "source": [
    "You provide a couple of suggestions to Mrs. Ferguson and she says goodbye happily. As you hang up you see a signal that you have another call. Just in time!"
   ]
  },
  {
   "cell_type": "markdown",
   "metadata": {
    "deletable": false,
    "editable": false,
    "nbgrader": {
     "grade": false,
     "grade_id": "cell-6b644bc576f54828",
     "locked": true,
     "schema_version": 3,
     "solution": false,
     "task": false
    }
   },
   "source": [
    "## Exercise 3 - Oh no, not again \n",
    "\n",
    "After a few more calls, and almost ready to clock out, you receive another call from another old lady. Turns out Mrs. Fergunson mentioned your help to her friends and one of them decided to also call. Mrs. Williams wants to get the oldest movies from the 70s she can find on Netflix. She vaguely remembers her favorites were from that time. \n",
    "\n",
    "Start by filtering all english-speaking movies from the 70s (1970-1979). Return the title, description, duration and release year. Use release year as the index and return the results ordered. Keep the `release_year` column in your final result.\n",
    "\n",
    "**Hint**: the sorting by year should follow the natural order, this is, an ascending order"
   ]
  },
  {
   "cell_type": "code",
   "execution_count": null,
   "metadata": {
    "deletable": false,
    "nbgrader": {
     "grade": false,
     "grade_id": "cell-44ce7d5a15714e38",
     "locked": false,
     "schema_version": 3,
     "solution": true,
     "task": false
    }
   },
   "outputs": [],
   "source": [
    "def mrs_williams_list(df):\n",
    "    \"\"\" \n",
    "    Show netflix shows according to mrs ferguson parameters:\n",
    "    \n",
    "      - only movies\n",
    "      - from english-speaking countries (US and UK)\n",
    "      - between and including 1970 and 1979 \n",
    "\n",
    "    Return only titles, description, duration and release_year\n",
    "\n",
    "    Args:\n",
    "        df (pd.DataFrame): the input DataFrame\n",
    "\n",
    "    Returns:\n",
    "        (pd.DataFrame): subsetted df\n",
    "\n",
    "    \"\"\"\n",
    "    \n",
    "    # YOUR CODE HERE\n",
    "    raise NotImplementedError()"
   ]
  },
  {
   "cell_type": "code",
   "execution_count": null,
   "metadata": {
    "deletable": false,
    "editable": false,
    "nbgrader": {
     "grade": true,
     "grade_id": "exercice_10_correct",
     "locked": true,
     "points": 4,
     "schema_version": 3,
     "solution": false
    }
   },
   "outputs": [],
   "source": [
    "# This cell is what will test your code, please ignore it!\n",
    "\n",
    "netflix_shows = pd.read_csv('data/netflix_titles.csv', index_col='show_id').sort_index()\n",
    "df_out = mrs_williams_list(netflix_shows)\n",
    "\n",
    "assert df_out.shape[0] == 21\n",
    "assert df_out.shape[1] == 4\n",
    "assert df_out.index.name == 'release_year'\n",
    "assert df_out.columns.tolist() == ['title', 'description', 'duration', 'release_year']\n",
    "\n",
    "assert df_out.iloc[0].release_year == 1972\n",
    "assert df_out.iloc[-1].release_year == 1979\n",
    "assert math.isclose(np.mean(df_out.release_year), 1975.4761904761904)"
   ]
  },
  {
   "cell_type": "markdown",
   "metadata": {
    "deletable": false,
    "editable": false,
    "nbgrader": {
     "grade": false,
     "grade_id": "cell-b0983efd645f0fd0",
     "locked": true,
     "schema_version": 3,
     "solution": false,
     "task": false
    }
   },
   "source": [
    "After providinng Mrs. Williams with the list, you polotely explain to her that these problems are not really tech support appropriate, and even though you're glad to help, they might try asking to their younger family members for help in getting these answers through other methods. \n",
    "\n",
    "Mrs. Williams kindly apologizes and you finish the call, and your day. Those were some weird questions for a first day, maybe somebody was trying to prank you? \n",
    "\n",
    "Regardless, you clock out with a sense of achievement. Not only you helped a couple of people, but you got to play around with data. Not bad for a first day, huh? \n",
    "\n",
    "\n"
   ]
  }
 ],
 "metadata": {
  "kernelspec": {
   "display_name": "Python 3",
   "language": "python",
   "name": "python3"
  },
  "language_info": {
   "codemirror_mode": {
    "name": "ipython",
    "version": 3
   },
   "file_extension": ".py",
   "mimetype": "text/x-python",
   "name": "python",
   "nbconvert_exporter": "python",
   "pygments_lexer": "ipython3",
   "version": "3.6.5"
  }
 },
 "nbformat": 4,
 "nbformat_minor": 2
}

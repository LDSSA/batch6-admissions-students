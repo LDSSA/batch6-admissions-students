{
 "cells": [
  {
   "cell_type": "markdown",
   "metadata": {
    "deletable": false,
    "editable": false,
    "nbgrader": {
     "grade": false,
     "grade_id": "cell-da2dce3c3cde2481",
     "locked": true,
     "schema_version": 3,
     "solution": false,
     "task": false
    }
   },
   "source": [
    "# SLU1 - Pandas 101: Exercise notebook"
   ]
  },
  {
   "cell_type": "code",
   "execution_count": null,
   "metadata": {
    "deletable": false,
    "editable": false,
    "nbgrader": {
     "grade": false,
     "grade_id": "cell-adeb14f434ab348e",
     "locked": true,
     "schema_version": 3,
     "solution": false,
     "task": false
    }
   },
   "outputs": [],
   "source": [
    "# First things first, import:"
   ]
  },
  {
   "cell_type": "code",
   "execution_count": null,
   "metadata": {
    "deletable": false,
    "editable": false,
    "nbgrader": {
     "grade": false,
     "grade_id": "cell-5be461f9535e38ef",
     "locked": true,
     "schema_version": 3,
     "solution": false,
     "task": false
    }
   },
   "outputs": [],
   "source": [
    "import pandas as pd\n",
    "import numpy as np\n",
    "from hashlib import sha256\n",
    "import json"
   ]
  },
  {
   "cell_type": "markdown",
   "metadata": {
    "deletable": false,
    "editable": false,
    "nbgrader": {
     "grade": false,
     "grade_id": "cell-284c29675c074ad2",
     "locked": true,
     "schema_version": 3,
     "solution": false,
     "task": false
    }
   },
   "source": [
    "- In this notebook the following is tested:\n",
    "\n",
    "    - Pandas Series\n",
    "    - Pandas DataFrames\n",
    "    - Printing the columns\n",
    "    - Load a dataset\n",
    "    - Preview a dataframe\n",
    "    - Make use of info and describe"
   ]
  },
  {
   "cell_type": "markdown",
   "metadata": {
    "deletable": false,
    "editable": false,
    "nbgrader": {
     "grade": false,
     "grade_id": "cell-271c2a4c67a910b1",
     "locked": true,
     "schema_version": 3,
     "solution": false,
     "task": false
    }
   },
   "source": [
    "## Exercise 1: Series\n",
    "\n",
    "In this first exercise the goal is to get used to creating series."
   ]
  },
  {
   "cell_type": "markdown",
   "metadata": {
    "deletable": false,
    "editable": false,
    "nbgrader": {
     "grade": false,
     "grade_id": "cell-5df2f4729d57dc2c",
     "locked": true,
     "schema_version": 3,
     "solution": false,
     "task": false
    }
   },
   "source": [
    "#### 1.1) Create a series with the name of the Avengers: "
   ]
  },
  {
   "cell_type": "code",
   "execution_count": null,
   "metadata": {
    "deletable": false,
    "nbgrader": {
     "grade": false,
     "grade_id": "cell-d0be99db1c88ce43",
     "locked": false,
     "schema_version": 3,
     "solution": true,
     "task": false
    }
   },
   "outputs": [],
   "source": [
    "# Create a list with the name of the avengers provided below then\n",
    "# Create a series with that list, using the order provided.\n",
    "# Let pandas generate the index on its own. \n",
    "# Don't forget to delete the raise error\n",
    "\n",
    "# names: Black Widow, Iron Man, Hulk, Captain America, Black Panther.\n",
    "\n",
    "# avengers_list = ...\n",
    "\n",
    "# Create a series with members of the Avengers team, and call it avengers_series. \n",
    "# avengers_series = ...\n",
    "\n",
    "# YOUR CODE HERE\n",
    "\n",
    "# YOUR CODE HERE\n",
    "raise NotImplementedError()"
   ]
  },
  {
   "cell_type": "code",
   "execution_count": null,
   "metadata": {
    "deletable": false,
    "editable": false,
    "nbgrader": {
     "grade": false,
     "grade_id": "cell-5f8266a7e866c326",
     "locked": true,
     "schema_version": 3,
     "solution": false,
     "task": false
    }
   },
   "outputs": [],
   "source": [
    "# run this cell to see the results \n",
    "avengers_series"
   ]
  },
  {
   "cell_type": "code",
   "execution_count": null,
   "metadata": {
    "deletable": false,
    "editable": false,
    "nbgrader": {
     "grade": true,
     "grade_id": "cell-0344c841b5dac488",
     "locked": true,
     "points": 2,
     "schema_version": 3,
     "solution": false,
     "task": false
    }
   },
   "outputs": [],
   "source": [
    "assert(isinstance(avengers_list, list)) ,\"The data structure used it's not the correct one\"\n",
    "assert len(avengers_series.index ) == 5 ,\"The lenght of the list is not correct\"\n",
    "assert ((avengers_series.values[3] == 'Captain America') & (avengers_series.values[-1] =='Black Panther')), \"The order of the list is not correct\"\n",
    "assert (isinstance(avengers_series, pd.Series)), \"avengers_series is not a pandas Series\""
   ]
  },
  {
   "cell_type": "markdown",
   "metadata": {
    "deletable": false,
    "editable": false,
    "nbgrader": {
     "grade": false,
     "grade_id": "cell-c90b1f8712d3b59c",
     "locked": true,
     "schema_version": 3,
     "solution": false,
     "task": false
    }
   },
   "source": [
    "#### 1.2) Create a series for the countries of each super hero club (using the avengers_list as index):"
   ]
  },
  {
   "cell_type": "code",
   "execution_count": null,
   "metadata": {
    "deletable": false,
    "nbgrader": {
     "grade": false,
     "grade_id": "cell-2d2283c13fa0600e",
     "locked": false,
     "schema_version": 3,
     "solution": true,
     "task": false
    }
   },
   "outputs": [],
   "source": [
    "# Data to create the pandas Series\n",
    "country_list = ['Russia', 'USA', 'USA', 'USA', 'Wakanda']\n",
    "\n",
    "# Create a series which has the avengers_list (previously created) as index, and the respective country as values. \n",
    "# country_series = ...\n",
    "\n",
    "# YOUR CODE HERE\n",
    "\n",
    "# YOUR CODE HERE\n",
    "raise NotImplementedError()"
   ]
  },
  {
   "cell_type": "code",
   "execution_count": null,
   "metadata": {
    "deletable": false,
    "editable": false,
    "nbgrader": {
     "grade": false,
     "grade_id": "cell-350b5e2353446f9f",
     "locked": true,
     "schema_version": 3,
     "solution": false,
     "task": false
    }
   },
   "outputs": [],
   "source": [
    "# run this cell to see the results \n",
    "country_series"
   ]
  },
  {
   "cell_type": "code",
   "execution_count": null,
   "metadata": {
    "deletable": false,
    "editable": false,
    "nbgrader": {
     "grade": true,
     "grade_id": "cell-096e084aeb31ba69",
     "locked": true,
     "points": 2,
     "schema_version": 3,
     "solution": false,
     "task": false
    }
   },
   "outputs": [],
   "source": [
    "assert (isinstance(country_series, pd.Series)), \"country_series is not a list\"\n",
    "assert(len(country_series==5)), \"The lenght of country_series is not correct\"\n",
    "assert(country_series[-3] == 'USA'), 'The order of country_series is not correct'\n",
    "assert(country_series.index[3] == 'Captain America'), 'The order of the index is not correct'"
   ]
  },
  {
   "cell_type": "markdown",
   "metadata": {
    "deletable": false,
    "editable": false,
    "nbgrader": {
     "grade": false,
     "grade_id": "cell-16da50f90137be63",
     "locked": true,
     "schema_version": 3,
     "solution": false,
     "task": false
    }
   },
   "source": [
    "#### 1.3) Get an numpy array with the the index of the given country_series."
   ]
  },
  {
   "cell_type": "code",
   "execution_count": null,
   "metadata": {
    "deletable": false,
    "nbgrader": {
     "grade": false,
     "grade_id": "cell-5882c53ea453ac16",
     "locked": false,
     "schema_version": 3,
     "solution": true,
     "task": false
    }
   },
   "outputs": [],
   "source": [
    "# Get an array with the indexes of country_series.\n",
    "# index_series = ...\n",
    "\n",
    "# YOUR CODE HERE\n",
    "\n",
    "# YOUR CODE HERE\n",
    "raise NotImplementedError()"
   ]
  },
  {
   "cell_type": "code",
   "execution_count": null,
   "metadata": {
    "deletable": false,
    "editable": false,
    "nbgrader": {
     "grade": false,
     "grade_id": "cell-309cab92bd4c1813",
     "locked": true,
     "schema_version": 3,
     "solution": false,
     "task": false
    }
   },
   "outputs": [],
   "source": [
    "# run this cell to see the results \n",
    "index_series"
   ]
  },
  {
   "cell_type": "code",
   "execution_count": null,
   "metadata": {
    "deletable": false,
    "editable": false,
    "nbgrader": {
     "grade": true,
     "grade_id": "cell-c733f3352254f868",
     "locked": true,
     "points": 1,
     "schema_version": 3,
     "solution": false,
     "task": false
    }
   },
   "outputs": [],
   "source": [
    "assert (isinstance(index_series, np.ndarray)), \"index_series is not in the format of a numpy array\"\n",
    "assert(len(index_series==5)), 'The lenght of index_series is not correct'\n",
    "assert(index_series[2] == 'Hulk'), 'The order of index_series is not correct'"
   ]
  },
  {
   "cell_type": "markdown",
   "metadata": {
    "deletable": false,
    "editable": false,
    "nbgrader": {
     "grade": false,
     "grade_id": "cell-fd427a357cc3cf29",
     "locked": true,
     "schema_version": 3,
     "solution": false,
     "task": false
    }
   },
   "source": [
    "## Exercise 2: DataFrames\n",
    "\n",
    "In this exercise the goal is to create a simple DataFrame."
   ]
  },
  {
   "cell_type": "markdown",
   "metadata": {
    "deletable": false,
    "editable": false,
    "nbgrader": {
     "grade": false,
     "grade_id": "cell-08f9ca9be997b702",
     "locked": true,
     "schema_version": 3,
     "solution": false,
     "task": false
    }
   },
   "source": [
    "#### 2.1) Create a DataFrame with avenger, country, age columns"
   ]
  },
  {
   "cell_type": "code",
   "execution_count": null,
   "metadata": {
    "deletable": false,
    "nbgrader": {
     "grade": false,
     "grade_id": "cell-b5c9767e3556cd9b",
     "locked": false,
     "schema_version": 3,
     "solution": true,
     "task": false
    }
   },
   "outputs": [],
   "source": [
    "# Create a dataframe with 3 columns: avenger_list, country_list, age_list. \n",
    "# Let pandas create the index itself\n",
    "# Make sure the columns are in the right order \n",
    "# avengers_df must be the name of the final dataframe.\n",
    "\n",
    "# Remember that 2 of the necessary lists for the dataframe have been created already\n",
    "## avengers_list\n",
    "## countries_list\n",
    "\n",
    "age_list = [34, 45, 37, 94, 20]\n",
    "\n",
    "# build the dataframe, using a dictionary to tell it what should be the column names\n",
    "# remember to give the columns the right names, or it won't pass the asserts\n",
    "# avengers_df_dictionary = ...\n",
    "# avengers_df = ...\n",
    "\n",
    "\n",
    "# YOUR CODE HERE\n",
    "\n",
    "# YOUR CODE HERE\n",
    "raise NotImplementedError()"
   ]
  },
  {
   "cell_type": "code",
   "execution_count": null,
   "metadata": {
    "deletable": false,
    "editable": false,
    "nbgrader": {
     "grade": false,
     "grade_id": "cell-8502f97b17b98629",
     "locked": true,
     "schema_version": 3,
     "solution": false,
     "task": false
    }
   },
   "outputs": [],
   "source": [
    "# The expected output is a dataframe with columns named\n",
    "# \"avenger\", \"country\" and \"age\", indexed from 0 to 4.\n",
    "avengers_df"
   ]
  },
  {
   "cell_type": "code",
   "execution_count": null,
   "metadata": {
    "deletable": false,
    "editable": false,
    "nbgrader": {
     "grade": true,
     "grade_id": "cell-a4ab78569f17b22b",
     "locked": true,
     "points": 2,
     "schema_version": 3,
     "solution": false,
     "task": false
    }
   },
   "outputs": [],
   "source": [
    "assert(isinstance(avengers_df, pd.DataFrame)), 'avengers_df is not a DataFrame'\n",
    "assert(isinstance(avengers_df_dictionary,dict)), 'avengers_df_dictionary is not a dictionary'\n",
    "assert(avengers_df['country'].tolist()==country_list), 'The lists used to create the dataframe are not associated to the correct columns'\n",
    "assert(avengers_df['avenger'].tolist()==avengers_list), 'The lists used to create the dataframe are not associated to the correct columns'\n",
    "assert(avengers_df['age'].tolist()==age_list), 'The lists used to create the dataframe are not associated to the correct columns'\n",
    "assert(avengers_df.shape == (5, 3)), 'The size of the dataframe is not correct'\n",
    "assert(avengers_df.iloc[3, 1] == 'USA'), 'The organization of the data appears not to be correct'\n",
    "assert(avengers_df.columns[2] == 'age'), 'The organization of the data appears not to be correct'"
   ]
  },
  {
   "cell_type": "markdown",
   "metadata": {
    "deletable": false,
    "editable": false,
    "nbgrader": {
     "grade": false,
     "grade_id": "cell-95e82fba3df70399",
     "locked": true,
     "schema_version": 3,
     "solution": false,
     "task": false
    }
   },
   "source": [
    "#### 2.2) Create a DataFrame with the country/age columns, but with avenger as row indexes"
   ]
  },
  {
   "cell_type": "code",
   "execution_count": null,
   "metadata": {
    "deletable": false,
    "nbgrader": {
     "grade": false,
     "grade_id": "cell-0c74e28305cd2c4a",
     "locked": false,
     "schema_version": 3,
     "solution": true,
     "task": false
    }
   },
   "outputs": [],
   "source": [
    "# Create a dataframe with columns country and age (in that order), but use avengers_list as index\n",
    "# avengers_df_ind must be the name of the final dataframe.\n",
    "\n",
    "# All the necessary values are already stored in their respective variables \n",
    "\n",
    "# Use the previous lists to create Series for country and age\n",
    "# Hint: use the avengers_list as index\n",
    "# country_series = ...\n",
    "# age_series = ...\n",
    "\n",
    "# Finally create the DataFrame, using a dictionary (remember that this dictionary should include the series) \n",
    "# avengers_df_ind_dictionary = ...\n",
    "# avengers_df_ind = ...\n",
    "\n",
    "# YOUR CODE HERE\n",
    "\n",
    "# YOUR CODE HERE\n",
    "raise NotImplementedError()"
   ]
  },
  {
   "cell_type": "code",
   "execution_count": null,
   "metadata": {
    "deletable": false,
    "editable": false,
    "nbgrader": {
     "grade": false,
     "grade_id": "cell-163f8e74dd88ef4a",
     "locked": true,
     "schema_version": 3,
     "solution": false,
     "task": false
    }
   },
   "outputs": [],
   "source": [
    "# run this cell to see the results \n",
    "# The expected output is a dataframe with columns named \"country\", \"age\", indexed with the correct avengers names.\n",
    "avengers_df_ind"
   ]
  },
  {
   "cell_type": "code",
   "execution_count": null,
   "metadata": {
    "deletable": false,
    "editable": false,
    "nbgrader": {
     "grade": true,
     "grade_id": "cell-0193acd630b4eb40",
     "locked": true,
     "points": 2,
     "schema_version": 3,
     "solution": false,
     "task": false
    }
   },
   "outputs": [],
   "source": [
    "assert(isinstance(avengers_df_ind_dictionary,dict)), 'avengers_df_ind_dictionary is not a dictionary'\n",
    "assert([n for n in avengers_df_ind_dictionary.keys()][0]=='country'),'the order of the columns is not correct'\n",
    "assert(avengers_df_ind['country'].tolist()==country_list), 'The lists used to create the dataframe are not associated to the correct columns'\n",
    "assert(isinstance(avengers_df_ind, pd.DataFrame)), 'avengers_df_ind is not a DataFrame'\n",
    "assert(avengers_df_ind.shape == (5, 2)), 'The size of the DataFrame is not correct'\n",
    "assert(avengers_df_ind.index[3] == 'Captain America'), 'The order of the index is not correct'\n",
    "assert(avengers_df_ind.columns[1] == 'age'), 'The order of the columns is not correct'\n",
    "backup_avengers_list = avengers_list.copy()"
   ]
  },
  {
   "cell_type": "markdown",
   "metadata": {
    "deletable": false,
    "editable": false,
    "nbgrader": {
     "grade": false,
     "grade_id": "cell-a9be7d364fff8062",
     "locked": true,
     "schema_version": 3,
     "solution": false,
     "task": false
    }
   },
   "source": [
    "## Exercise 3: Load the Digimon dataset\n",
    "\n",
    "\n",
    "In this exercise you will load the Digimon data set.\n",
    "\n",
    "You will then preview it and retrieve some information."
   ]
  },
  {
   "cell_type": "markdown",
   "metadata": {
    "deletable": false,
    "editable": false,
    "nbgrader": {
     "grade": false,
     "grade_id": "cell-9ac81a8856756298",
     "locked": true,
     "schema_version": 3,
     "solution": false,
     "task": false
    }
   },
   "source": [
    "#### 3.1) Load the data set"
   ]
  },
  {
   "cell_type": "code",
   "execution_count": null,
   "metadata": {
    "deletable": false,
    "nbgrader": {
     "grade": false,
     "grade_id": "cell-6f209833953ab9cf",
     "locked": false,
     "schema_version": 3,
     "solution": true,
     "task": false
    }
   },
   "outputs": [],
   "source": [
    "# Load the Digimon data set\n",
    "# it is located at data/DigiDB_digimonlist.csv\n",
    "# digimon_df = ...\n",
    "\n",
    "# YOUR CODE HERE\n",
    "\n",
    "# YOUR CODE HERE\n",
    "raise NotImplementedError()"
   ]
  },
  {
   "cell_type": "code",
   "execution_count": null,
   "metadata": {
    "deletable": false,
    "editable": false,
    "nbgrader": {
     "grade": false,
     "grade_id": "cell-5b36486d3ce89890",
     "locked": true,
     "schema_version": 3,
     "solution": false,
     "task": false
    }
   },
   "outputs": [],
   "source": [
    "# print head it to get an idea of what you've just loaded \n",
    "digimon_df.head()"
   ]
  },
  {
   "cell_type": "code",
   "execution_count": null,
   "metadata": {
    "deletable": false,
    "editable": false,
    "nbgrader": {
     "grade": true,
     "grade_id": "cell-a08b45d8b2814c8f",
     "locked": true,
     "points": 1,
     "schema_version": 3,
     "solution": false,
     "task": false
    }
   },
   "outputs": [],
   "source": [
    "assert(isinstance(digimon_df, pd.DataFrame)),'digimon_df is not a DataFrame'\n",
    "assert(digimon_df.shape == (249, 13)), 'the size of digimon df is not correct'"
   ]
  },
  {
   "cell_type": "markdown",
   "metadata": {
    "deletable": false,
    "editable": false,
    "nbgrader": {
     "grade": false,
     "grade_id": "cell-e48d5b6749cf42b8",
     "locked": true,
     "schema_version": 3,
     "solution": false,
     "task": false
    }
   },
   "source": [
    "#### 3.2) Load the data set with an index defined"
   ]
  },
  {
   "cell_type": "code",
   "execution_count": null,
   "metadata": {
    "deletable": false,
    "nbgrader": {
     "grade": false,
     "grade_id": "cell-8e15e2392133ead5",
     "locked": false,
     "schema_version": 3,
     "solution": true,
     "task": false
    }
   },
   "outputs": [],
   "source": [
    "# Load the digimon data set and set the index the \"Number\" column \n",
    "# (check the documentatio: https://pandas.pydata.org/pandas-docs/stable/reference/api/pandas.read_csv.html)\n",
    "# digimon_df_ind = ...\n",
    "\n",
    "# YOUR CODE HERE\n",
    "\n",
    "# YOUR CODE HERE\n",
    "raise NotImplementedError()"
   ]
  },
  {
   "cell_type": "code",
   "execution_count": null,
   "metadata": {
    "deletable": false,
    "editable": false,
    "nbgrader": {
     "grade": false,
     "grade_id": "cell-17389a9fab8f66ef",
     "locked": true,
     "schema_version": 3,
     "solution": false,
     "task": false
    }
   },
   "outputs": [],
   "source": [
    "# print head it to get an idea of what you've just loaded \n",
    "digimon_df_ind.head()"
   ]
  },
  {
   "cell_type": "code",
   "execution_count": null,
   "metadata": {
    "deletable": false,
    "editable": false,
    "nbgrader": {
     "grade": true,
     "grade_id": "cell-4457e5154efddfdf",
     "locked": true,
     "points": 1,
     "schema_version": 3,
     "solution": false,
     "task": false
    }
   },
   "outputs": [],
   "source": [
    "assert(isinstance(digimon_df_ind, pd.DataFrame)),'digimon_df is not a DataFrame'\n",
    "assert(digimon_df_ind.shape == (249, 12)), 'the size of digimon df is not correct'"
   ]
  },
  {
   "cell_type": "markdown",
   "metadata": {
    "deletable": false,
    "editable": false,
    "nbgrader": {
     "grade": false,
     "grade_id": "cell-54a30579d70bf53c",
     "locked": true,
     "schema_version": 3,
     "solution": false,
     "task": false
    }
   },
   "source": [
    "#### 3.3) Get general information about the dataframe"
   ]
  },
  {
   "cell_type": "code",
   "execution_count": null,
   "metadata": {
    "deletable": false,
    "nbgrader": {
     "grade": false,
     "grade_id": "cell-09bcf295f244ae5e",
     "locked": false,
     "schema_version": 3,
     "solution": true,
     "task": false
    }
   },
   "outputs": [],
   "source": [
    "# NOT GRADED\n",
    "\n",
    "# Print digimon_df_ind info\n",
    "# reminder: jupyter just prints out the last output, \n",
    "# so you don't need to use a print statement\n",
    "# YOUR CODE HERE\n",
    "\n",
    "# YOUR CODE HERE\n",
    "raise NotImplementedError()"
   ]
  },
  {
   "cell_type": "markdown",
   "metadata": {
    "deletable": false,
    "editable": false,
    "nbgrader": {
     "grade": false,
     "grade_id": "cell-5382c8790be3fea8",
     "locked": true,
     "schema_version": 3,
     "solution": false,
     "task": false
    }
   },
   "source": [
    "#### 3.4) Preview the top 7 entries"
   ]
  },
  {
   "cell_type": "code",
   "execution_count": null,
   "metadata": {
    "deletable": false,
    "nbgrader": {
     "grade": false,
     "grade_id": "cell-84111368d39ecdb5",
     "locked": false,
     "schema_version": 3,
     "solution": true,
     "task": false
    }
   },
   "outputs": [],
   "source": [
    "# Print the top 7 entries of digimon_df_ind\n",
    "\n",
    "# digimon_df_ind_top = ...\n",
    "\n",
    "# YOUR CODE HERE\n",
    "\n",
    "# YOUR CODE HERE\n",
    "raise NotImplementedError()"
   ]
  },
  {
   "cell_type": "code",
   "execution_count": null,
   "metadata": {},
   "outputs": [],
   "source": [
    "digimon_df_ind_top"
   ]
  },
  {
   "cell_type": "code",
   "execution_count": null,
   "metadata": {
    "deletable": false,
    "editable": false,
    "nbgrader": {
     "grade": true,
     "grade_id": "cell-5354f5e7e9461336",
     "locked": true,
     "points": 1,
     "schema_version": 3,
     "solution": false,
     "task": false
    }
   },
   "outputs": [],
   "source": [
    "assert (digimon_df_ind_top.shape == (7,12)), 'The output of the digimon_df_ind_top is not correct'\n",
    "assert (digimon_df_ind_top.iloc[-1,0] == 'Tanemon'), 'The organization of the data is not correct'"
   ]
  },
  {
   "cell_type": "markdown",
   "metadata": {
    "deletable": false,
    "editable": false,
    "nbgrader": {
     "grade": false,
     "grade_id": "cell-ab2ca8d5f3ab2c7d",
     "locked": true,
     "schema_version": 3,
     "solution": false,
     "task": false
    }
   },
   "source": [
    "#### 3.5) Preview the bottom 3 entries"
   ]
  },
  {
   "cell_type": "code",
   "execution_count": null,
   "metadata": {
    "deletable": false,
    "nbgrader": {
     "grade": false,
     "grade_id": "cell-afd010e3e4e4c1f0",
     "locked": false,
     "schema_version": 3,
     "solution": true,
     "task": false
    }
   },
   "outputs": [],
   "source": [
    "# Print the bottom 3 entries of digimon_df_ind\n",
    "\n",
    "# digimon_df_ind_bottom = ...\n",
    "\n",
    "# YOUR CODE HERE\n",
    "\n",
    "# YOUR CODE HERE\n",
    "raise NotImplementedError()"
   ]
  },
  {
   "cell_type": "code",
   "execution_count": null,
   "metadata": {
    "deletable": false,
    "editable": false,
    "nbgrader": {
     "grade": true,
     "grade_id": "cell-0e1de9cf480b483d",
     "locked": true,
     "points": 1,
     "schema_version": 3,
     "solution": false,
     "task": false
    }
   },
   "outputs": [],
   "source": [
    "assert (digimon_df_ind_bottom.shape == (3,12)), 'The output of the digimon_df_ind_top is not correct'\n",
    "assert (digimon_df_ind_bottom.iloc[-1,0] == 'Rosemon BM'), 'The organization of the data is not correct'"
   ]
  },
  {
   "cell_type": "markdown",
   "metadata": {
    "deletable": false,
    "editable": false,
    "nbgrader": {
     "grade": false,
     "grade_id": "cell-2de8402c98563526",
     "locked": true,
     "schema_version": 3,
     "solution": false,
     "task": false
    }
   },
   "source": [
    "###### 3.6) Use a method to determine all the types os data in digimon_df_ind"
   ]
  },
  {
   "cell_type": "code",
   "execution_count": null,
   "metadata": {
    "deletable": false,
    "nbgrader": {
     "grade": false,
     "grade_id": "cell-e9e62f9d35948d34",
     "locked": false,
     "schema_version": 3,
     "solution": true,
     "task": false
    }
   },
   "outputs": [],
   "source": [
    "# Print the type of data in digimon_df_ind\n",
    "#digimon_df_ind_types = ...\n",
    "\n",
    "# Manually insert the answers to the following variables:\n",
    "\n",
    "# number_of_cols = ...\n",
    "# number_of_obj_cols = ...\n",
    "# number_of_int_cols = ...\n",
    "\n",
    "# YOUR CODE HERE\n",
    "\n",
    "# YOUR CODE HERE\n",
    "raise NotImplementedError()"
   ]
  },
  {
   "cell_type": "code",
   "execution_count": null,
   "metadata": {
    "deletable": false,
    "editable": false,
    "nbgrader": {
     "grade": true,
     "grade_id": "cell-efab0f02db3e97d7",
     "locked": true,
     "points": 2,
     "schema_version": 3,
     "solution": false,
     "task": false
    }
   },
   "outputs": [],
   "source": [
    "assert (number_of_cols==12), 'Total number of columns is not correct'\n",
    "assert (number_of_obj_cols==4), 'Number of object type columns is not correct'\n",
    "assert (number_of_int_cols==8), 'Number of integer columns is not correct'"
   ]
  },
  {
   "cell_type": "markdown",
   "metadata": {
    "deletable": false,
    "editable": false,
    "nbgrader": {
     "grade": false,
     "grade_id": "cell-778adca8fb84d47c",
     "locked": true,
     "schema_version": 3,
     "solution": false,
     "task": false
    }
   },
   "source": [
    "#### 3.7) Print the number of rows and the number of columns"
   ]
  },
  {
   "cell_type": "code",
   "execution_count": null,
   "metadata": {
    "deletable": false,
    "nbgrader": {
     "grade": false,
     "grade_id": "cell-e41c90b0d616df98",
     "locked": false,
     "schema_version": 3,
     "solution": true,
     "task": false
    }
   },
   "outputs": [],
   "source": [
    "# Get the nr_rows and nr_cols from digimon_df_ind, using a method\n",
    "\n",
    "# nr_rows = ...\n",
    "# nr_cols = ...\n",
    "\n",
    "#YOUR CODE HERE\n",
    "\n",
    "# YOUR CODE HERE\n",
    "raise NotImplementedError()"
   ]
  },
  {
   "cell_type": "code",
   "execution_count": null,
   "metadata": {
    "deletable": false,
    "editable": false,
    "nbgrader": {
     "grade": true,
     "grade_id": "cell-8b8e256291698a0b",
     "locked": true,
     "points": 1,
     "schema_version": 3,
     "solution": false,
     "task": false
    }
   },
   "outputs": [],
   "source": [
    "assert (nr_rows == 249), 'Number of rows in digimon_df_ind is not correct'\n",
    "assert (nr_cols == 12), 'Number of columns in digimon_df_ind is not correct'"
   ]
  },
  {
   "cell_type": "markdown",
   "metadata": {
    "deletable": false,
    "editable": false,
    "nbgrader": {
     "grade": false,
     "grade_id": "cell-2b45ce53733500d7",
     "locked": true,
     "schema_version": 3,
     "solution": false,
     "task": false
    }
   },
   "source": [
    "#### 3.8) Get the array of column names"
   ]
  },
  {
   "cell_type": "code",
   "execution_count": null,
   "metadata": {
    "deletable": false,
    "nbgrader": {
     "grade": false,
     "grade_id": "cell-4fd5c93627335cd6",
     "locked": false,
     "schema_version": 3,
     "solution": true,
     "task": false
    }
   },
   "outputs": [],
   "source": [
    "# Create an array with the column names of digimon_df_ind_columns and print it.\n",
    "# there is, as always, a method for this \n",
    "# digimon_df_ind_columns = ...\n",
    "\n",
    "#YOUR CODE HERE\n",
    "\n",
    "# YOUR CODE HERE\n",
    "raise NotImplementedError()"
   ]
  },
  {
   "cell_type": "code",
   "execution_count": null,
   "metadata": {
    "deletable": false,
    "editable": false,
    "nbgrader": {
     "grade": false,
     "grade_id": "cell-ea612de1137af38a",
     "locked": true,
     "schema_version": 3,
     "solution": false,
     "task": false
    }
   },
   "outputs": [],
   "source": [
    "print(digimon_df_ind_columns)"
   ]
  },
  {
   "cell_type": "markdown",
   "metadata": {
    "deletable": false,
    "editable": false,
    "nbgrader": {
     "grade": false,
     "grade_id": "cell-8275c0595dffff1b",
     "locked": true,
     "schema_version": 3,
     "solution": false,
     "task": false
    }
   },
   "source": [
    "The expected output is an array with 'Digimon', 'Stage', 'Type', 'Attribute', 'Memory', 'Equip Slots',\n",
    "       'Lv 50 HP', 'Lv50 SP', 'Lv50 Atk', 'Lv50 Def', 'Lv50 Int', 'Lv50 Spd'."
   ]
  },
  {
   "cell_type": "code",
   "execution_count": null,
   "metadata": {
    "deletable": false,
    "editable": false,
    "nbgrader": {
     "grade": true,
     "grade_id": "cell-4dce9e138896815d",
     "locked": true,
     "points": 2,
     "schema_version": 3,
     "solution": false,
     "task": false
    }
   },
   "outputs": [],
   "source": [
    "assert(isinstance(digimon_df_ind_columns,np.ndarray)), 'digimon_df_ind_columns is not in the format of a numpy array'\n",
    "assert (digimon_df_ind_columns[1] == 'Stage' ), 'the order of digimon_df_ind_columns is not correct'\n",
    "assert (len(digimon_df_ind_columns) == 12), 'The lenght of digimon_df_ind_columns is not correct'"
   ]
  },
  {
   "cell_type": "markdown",
   "metadata": {},
   "source": [
    "#### 3.9) Making use of describe() what is the standard deviation value of the Memory?"
   ]
  },
  {
   "cell_type": "code",
   "execution_count": null,
   "metadata": {
    "deletable": false,
    "editable": false,
    "nbgrader": {
     "grade": false,
     "grade_id": "cell-c964bead811e1332",
     "locked": true,
     "schema_version": 3,
     "solution": false,
     "task": false
    }
   },
   "outputs": [],
   "source": [
    "# Print digimon_df_ind describe\n",
    "\n",
    "digimon_df_ind.describe()"
   ]
  },
  {
   "cell_type": "code",
   "execution_count": null,
   "metadata": {
    "deletable": false,
    "nbgrader": {
     "grade": false,
     "grade_id": "cell-3681531b79d28fd3",
     "locked": false,
     "schema_version": 3,
     "solution": true,
     "task": false
    }
   },
   "outputs": [],
   "source": [
    "# Manually input the standard deviation value of the Memory column\n",
    "# yep, that simple. No tricks here :) \n",
    "\n",
    "#memory_std = ...\n",
    "\n",
    "# YOUR CODE HERE\n",
    "\n",
    "# YOUR CODE HERE\n",
    "raise NotImplementedError()"
   ]
  },
  {
   "cell_type": "code",
   "execution_count": null,
   "metadata": {
    "deletable": false,
    "editable": false,
    "nbgrader": {
     "grade": true,
     "grade_id": "cell-1bf51b9a2de225bc",
     "locked": true,
     "points": 2,
     "schema_version": 3,
     "solution": false,
     "task": false
    }
   },
   "outputs": [],
   "source": [
    "assert 6 < memory_std < 7, 'The value for standard deviation of the column memory is wrong'"
   ]
  }
 ],
 "metadata": {
  "kernelspec": {
   "display_name": "Python 3",
   "language": "python",
   "name": "python3"
  },
  "language_info": {
   "codemirror_mode": {
    "name": "ipython",
    "version": 3
   },
   "file_extension": ".py",
   "mimetype": "text/x-python",
   "name": "python",
   "nbconvert_exporter": "python",
   "pygments_lexer": "ipython3",
   "version": "3.6.9"
  }
 },
 "nbformat": 4,
 "nbformat_minor": 4
}
